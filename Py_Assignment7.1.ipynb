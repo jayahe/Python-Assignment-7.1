{
 "cells": [
  {
   "cell_type": "markdown",
   "metadata": {},
   "source": [
    "### Problem Statement 7.1\n",
    "Given a sequence of n values x1, x2, ..., xn and a window size k>0, the k-th moving\n",
    "average of the given sequence is defined as follows:\n",
    "The moving average sequence has n-k+1 elements as shown below.\n",
    "\n",
    "The moving averages with k=4 of a ten-value sequence (n=10) is shown below\n",
    "i 1 2 3 4 5 6 7 8 9 10\n",
    "===== == == == == == == == == == ==\n",
    "Input 10 20 30 40 50 60 70 80 90 100\n",
    "y1 25 = (10+20+30+40)/4\n",
    "y2 35 = (20+30+40+50)/4\n",
    "y3 45 = (30+40+50+60)/4\n",
    "y4 55 = (40+50+60+70)/4\n",
    "y5 65 = (50+60+70+80)/4\n",
    "y6 75 = (60+70+80+90)/4\n",
    "y7 85 = (70+80+90+100)/4\n",
    "\n",
    "Thus, the moving average sequence has n-k+1=10-4+1=7 values.\n",
    "\n",
    "\n",
    "#### Problem Statement\n",
    "\n",
    "Write a function to find moving average in an array over a window:\n",
    "Test it over [3, 5, 7, 2, 8, 10, 11, 65, 72, 81, 99, 100, 150] and window of 3."
   ]
  },
  {
   "cell_type": "code",
   "execution_count": 14,
   "metadata": {},
   "outputs": [
    {
     "name": "stdout",
     "output_type": "stream",
     "text": [
      "Cumsum :  [0, 3, 8, 15, 17, 25, 35, 46, 111, 183, 264, 363, 463, 613]\n",
      "Moving Average:  [4, 5, 6, 7, 23, 39, 57, 79, 88, 107]\n"
     ]
    }
   ],
   "source": [
    "mylist = [3, 5, 7, 2, 8, 10, 11, 65, 72, 81, 99, 100, 150]\n",
    "k = 4\n",
    "cumsum, moving_aveg = [0], []\n",
    "\n",
    "for i, x in enumerate(mylist, 1):\n",
    "    cumsum.append(cumsum[i-1] + x)\n",
    "    if i>=k:\n",
    "        moving_ave = (cumsum[i] - cumsum[i-k])/k\n",
    "        #can do stuff with moving_ave here\n",
    "        moving_aveg.append(int(moving_ave))\n",
    "print('Cumsum : ', cumsum)\n",
    "print('Moving Average: ',moving_aveg)"
   ]
  },
  {
   "cell_type": "code",
   "execution_count": null,
   "metadata": {},
   "outputs": [],
   "source": []
  }
 ],
 "metadata": {
  "kernelspec": {
   "display_name": "Python 3",
   "language": "python",
   "name": "python3"
  },
  "language_info": {
   "codemirror_mode": {
    "name": "ipython",
    "version": 3
   },
   "file_extension": ".py",
   "mimetype": "text/x-python",
   "name": "python",
   "nbconvert_exporter": "python",
   "pygments_lexer": "ipython3",
   "version": "3.6.3"
  }
 },
 "nbformat": 4,
 "nbformat_minor": 2
}
